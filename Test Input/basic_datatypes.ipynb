{
 "cells": [
  {
   "cell_type": "markdown",
   "id": "4f6d77f5-147b-409e-8294-205dc4c34cfb",
   "metadata": {},
   "source": [
    "## Python Data Types:-\n",
    "### Declaring and using Numeric data types: int, float, complex, Using string data type and string operations."
   ]
  },
  {
   "cell_type": "markdown",
   "id": "14cda3bc-106c-4661-be04-88189f24eba3",
   "metadata": {},
   "source": [
    "### Numeric Operations :-"
   ]
  },
  {
   "cell_type": "code",
   "execution_count": 1,
   "id": "70673173-8d5d-4aea-896f-32c623482108",
   "metadata": {},
   "outputs": [
    {
     "name": "stdout",
     "output_type": "stream",
     "text": [
      "Sum of 10 and 20 is: 30\n"
     ]
    }
   ],
   "source": [
    "# Program to demonstrate integer data type\n",
    "num1 = 10\n",
    "num2 = 20\n",
    "sum_int = num1 + num2\n",
    "print(\"Sum of\", num1, \"and\", num2, \"is:\", sum_int)"
   ]
  },
  {
   "cell_type": "code",
   "execution_count": 2,
   "id": "82ca8938-21cf-44cd-a3cc-3d1e774f7630",
   "metadata": {},
   "outputs": [
    {
     "name": "stdout",
     "output_type": "stream",
     "text": [
      "10\n",
      "<class 'int'>\n"
     ]
    }
   ],
   "source": [
    "# It is important to find the type of a variable\n",
    "# Program to declare and print an integer variable\n",
    "x = 10\n",
    "print(x)\n",
    "print(type(x))"
   ]
  },
  {
   "cell_type": "code",
   "execution_count": 3,
   "id": "b95f59c4-04bc-4156-bdee-62c4886552d7",
   "metadata": {},
   "outputs": [
    {
     "name": "stdout",
     "output_type": "stream",
     "text": [
      "3.14\n",
      "<class 'float'>\n"
     ]
    }
   ],
   "source": [
    "# Program to declare and print a float variable\n",
    "y = 3.14\n",
    "print(y)\n",
    "print(type(y))"
   ]
  },
  {
   "cell_type": "code",
   "execution_count": 4,
   "id": "123a6ce2-1465-40fe-ab71-a4058b218172",
   "metadata": {},
   "outputs": [
    {
     "name": "stdout",
     "output_type": "stream",
     "text": [
      "a + b = 13\n",
      "a - b = 7\n",
      "a * b = 30\n",
      "a / b = 3.3333333333333335\n",
      "a // b = 3\n",
      "a % b = 1\n",
      "a ** b = 1000\n"
     ]
    }
   ],
   "source": [
    "# Program to demonstrate numeric operations on integer data type\n",
    "a = 10\n",
    "b = 3\n",
    "print(\"a + b =\", a + b)\n",
    "print(\"a - b =\", a - b)\n",
    "print(\"a * b =\", a * b)\n",
    "print(\"a / b =\", a / b)\n",
    "print(\"a // b =\", a // b) # floor division\n",
    "print(\"a % b =\", a % b) # modulus\n",
    "print(\"a ** b =\", a ** b) # exponentiation"
   ]
  },
  {
   "cell_type": "code",
   "execution_count": 5,
   "id": "3d737b9b-b263-4acc-a9c4-7fc7d39c4e3e",
   "metadata": {},
   "outputs": [
    {
     "name": "stdout",
     "output_type": "stream",
     "text": [
      "7.5 2.5 12.5 2.0 55.90169943749474 0.0 2.0\n"
     ]
    }
   ],
   "source": [
    "# Program to perform arithmetic operations on numeric variables of integer and float data types\n",
    "a = 5\n",
    "b = 2.5\n",
    "c = a + b # addition\n",
    "d = a - b # subtraction\n",
    "e = a * b # multiplication\n",
    "f = a / b # division\n",
    "g = a ** b # exponentiation\n",
    "h = a % b # modulus\n",
    "i = a // b # floor division\n",
    "print(c, d, e, f, g, h, i)"
   ]
  },
  {
   "cell_type": "code",
   "execution_count": 6,
   "id": "93f5d4e8-7e9b-4d50-aad5-3599e05314e7",
   "metadata": {},
   "outputs": [
    {
     "name": "stdout",
     "output_type": "stream",
     "text": [
      "Integer 10 converted to float: 10.0\n",
      "Float 15.7 converted to integer: 15.7\n"
     ]
    }
   ],
   "source": [
    "# Program to demonstrate conversion between different numeric types\n",
    "num_int = 10\n",
    "num_float = float(num_int)\n",
    "print(\"Integer\", num_int, \"converted to float:\", num_float)\n",
    "\n",
    "# when you convert float to integer, it gives us floor value\n",
    "num_float = 15.7\n",
    "num_int = int(num_float)\n",
    "print(\"Float\", num_float, \"converted to integer:\", num_float)"
   ]
  },
  {
   "cell_type": "code",
   "execution_count": 8,
   "id": "d2008d48-746e-41c2-ab31-63e27af3da57",
   "metadata": {},
   "outputs": [
    {
     "name": "stdout",
     "output_type": "stream",
     "text": [
      "(2+5j)\n",
      "<class 'complex'>\n"
     ]
    }
   ],
   "source": [
    "# Program to declare and print a complex variable\n",
    "z = 2 + 5j\n",
    "print(z)\n",
    "print(type(z))"
   ]
  },
  {
   "cell_type": "code",
   "execution_count": 9,
   "id": "d46e1efa-7a7b-49cb-bfc3-e44e05e246b5",
   "metadata": {},
   "outputs": [
    {
     "name": "stdout",
     "output_type": "stream",
     "text": [
      "3 4.0 (5+6j) (7.8+9.1j) 5 9.1\n"
     ]
    }
   ],
   "source": [
    "# Program to convert between numeric data types\n",
    "j = int(3.5) # convert float to int\n",
    "k = float(4) # convert int to float\n",
    "l = complex(5, 6) # convert int to float\n",
    "m = complex(7.8, 9.1) # convert float to complex\n",
    "n = int(l.real) # get the real part of complex as int\n",
    "o = float(m.imag) # get the imaginary part of complex as float\n",
    "print(j, k, l, m, n, o)"
   ]
  },
  {
   "cell_type": "markdown",
   "id": "3eb04de0-ae5c-4c2c-9288-bcd30a423a5c",
   "metadata": {},
   "source": [
    "### Basic String operations :-"
   ]
  },
  {
   "cell_type": "code",
   "execution_count": 10,
   "id": "6398aede-0cc3-4ccc-a9a8-ee7cbfdc599c",
   "metadata": {},
   "outputs": [
    {
     "name": "stdout",
     "output_type": "stream",
     "text": [
      "Hello Hi\n"
     ]
    }
   ],
   "source": [
    "# Program to demonstrate string operation\n",
    "str1 = \"Hello\"\n",
    "str2 = \"Hi\"\n",
    "concatenated_str = str1 + \" \" + str2\n",
    "print(concatenated_str)"
   ]
  },
  {
   "cell_type": "code",
   "execution_count": 11,
   "id": "6bc7b5c5-e365-41a9-8508-bdcc70fe5571",
   "metadata": {},
   "outputs": [
    {
     "name": "stdout",
     "output_type": "stream",
     "text": [
      "Hello Python\n",
      "HiHiHi\n"
     ]
    }
   ],
   "source": [
    "# Program to concatenate and repeat strings\n",
    "u = \"Hello\" + \" \" + \"Python\" # concatenate strings with +\n",
    "v = \"Hi\" * 3 # repeat a string with *\n",
    "print(u)\n",
    "print(v)"
   ]
  },
  {
   "cell_type": "code",
   "execution_count": 12,
   "id": "dc9675c6-9257-4efe-957b-753bfed7e247",
   "metadata": {},
   "outputs": [
    {
     "name": "stdout",
     "output_type": "stream",
     "text": [
      "Length of the string is: 13\n"
     ]
    }
   ],
   "source": [
    "# Program to demonstrate finding string length\n",
    "str1 = \"Hello, World!\"\n",
    "print(\"Length of the string is:\", len(str1))"
   ]
  },
  {
   "cell_type": "code",
   "execution_count": 13,
   "id": "33c43109-7cf9-4782-8999-9c64b108c3e2",
   "metadata": {},
   "outputs": [
    {
     "name": "stdout",
     "output_type": "stream",
     "text": [
      "First character: P\n",
      "Last character: n\n"
     ]
    }
   ],
   "source": [
    "# Program to demonstrate string indexing\n",
    "str1 = \"Python\"\n",
    "print(\"First character:\", str1[0])\n",
    "print(\"Last character:\", str1[-1])"
   ]
  },
  {
   "cell_type": "code",
   "execution_count": 14,
   "id": "4c600268-2238-4e20-9a1e-fb61e432d88f",
   "metadata": {},
   "outputs": [
    {
     "name": "stdout",
     "output_type": "stream",
     "text": [
      "First five characters: tnorm\n",
      "Last five characters: mming\n"
     ]
    }
   ],
   "source": [
    "# Program to demonstrate string slicing\n",
    "str1 = \"Python Porgramming\"\n",
    "print(\"First five characters:\", str1[2:15:3])\n",
    "print(\"Last five characters:\", str1[-5:])"
   ]
  },
  {
   "cell_type": "code",
   "execution_count": 15,
   "id": "91dd8a7f-4861-472b-82ef-ce06f106e5c8",
   "metadata": {},
   "outputs": [
    {
     "name": "stdout",
     "output_type": "stream",
     "text": [
      "My name is Alice, I'm 30 years old, and my height is 5.611 feet.\n"
     ]
    }
   ],
   "source": [
    "# Program to demonstrate string formatting\n",
    "name = \"Alice\"\n",
    "age = 30\n",
    "height = 5.611\n",
    "formatted_str = \"My name is {}, I'm {} years old, and my height is {:.3f} feet.\".format(name, age, height)\n",
    "print(formatted_str)"
   ]
  },
  {
   "cell_type": "code",
   "execution_count": 16,
   "id": "72bdc024-6ab4-4466-9d66-21f9cb541cac",
   "metadata": {},
   "outputs": [
    {
     "name": "stdout",
     "output_type": "stream",
     "text": [
      "THIS IS A STRING\n",
      "this is a string\n",
      "This is another string\n",
      "['This', 'is', 'a', 'string']\n",
      "True\n",
      "True\n",
      "2\n",
      "2\n",
      "16\n",
      "False\n",
      "False\n",
      "False\n"
     ]
    }
   ],
   "source": [
    "# Program to use string methods and properties\n",
    "w = \"This is a string\"\n",
    "print(w.upper()) # convert to uppercase\n",
    "print(w.lower()) # convert to lowercase\n",
    "print(w.replace(\"a\", \"another\")) # replace a substring with another\n",
    "print(w.split()) # split a string into a list of words\n",
    "print(w.startswith(\"This\")) # check if a string starts with a substring\n",
    "print(w.endswith(\"string\")) # check if a string ends with a substring\n",
    "print(w.find(\"is\")) # find the index of the first occurrence of a substring\n",
    "print(w.count(\"is\")) # count the number of occurrences of a substring\n",
    "print(len(w)) # get the length of a string\n",
    "print(w.isalpha()) # check if a string contains only alphabetic characters\n",
    "print(w.isdigit()) # check if a string contains only numeric characters\n",
    "print(w.isspace()) # check if a string contains only whitespace characters"
   ]
  },
  {
   "cell_type": "code",
   "execution_count": 17,
   "id": "5380f954-57c6-4737-993d-f8ea06da0697",
   "metadata": {},
   "outputs": [
    {
     "name": "stdout",
     "output_type": "stream",
     "text": [
      "x is 10, y is 3.14, and z is Python\n",
      "x is 10, y is 3.14, and z is Python\n",
      "x is 10, y is 3.14, and z is Python\n",
      "x is 10, y is 3.14, and z is Python\n"
     ]
    }
   ],
   "source": [
    "# Program to format a string with placeholders\n",
    "x = 10\n",
    "y = 3.14\n",
    "z = \"Python\"\n",
    "print(\"x is {}, y is {}, and z is {}\".format(x, y, z)) # use {} as placeholders\n",
    "print(\"x is {0}, y is {1}, and z is {2}\".format(x, y, z)) # use {n} as placeholders with index\n",
    "print(\"x is {a}, y is {b}, and z is {c}\".format(a=x, b=y, c=z)) # use {name} as placeholders with keyword arguments\n",
    "print(f\"x is {x}, y is {y}, and z is {z}\") # use f-strings with expressions inside {}"
   ]
  }
 ],
 "metadata": {
  "kernelspec": {
   "display_name": "Python 3 (ipykernel)",
   "language": "python",
   "name": "python3"
  },
  "language_info": {
   "codemirror_mode": {
    "name": "ipython",
    "version": 3
   },
   "file_extension": ".py",
   "mimetype": "text/x-python",
   "name": "python",
   "nbconvert_exporter": "python",
   "pygments_lexer": "ipython3",
   "version": "3.12.8"
  }
 },
 "nbformat": 4,
 "nbformat_minor": 5
}
